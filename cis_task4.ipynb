{
 "cells": [
  {
   "cell_type": "code",
   "execution_count": 1,
   "id": "ce58da8f-39d8-41a3-8e8d-8b4fa6c55698",
   "metadata": {},
   "outputs": [
    {
     "data": {
      "text/plain": [
       "'C:\\\\Users\\\\jcsmi\\\\sw\\\\work\\\\cis-course\\\\.venv\\\\Scripts\\\\python.exe'"
      ]
     },
     "execution_count": 1,
     "metadata": {},
     "output_type": "execute_result"
    }
   ],
   "source": [
    "import sys\n",
    "sys.executable"
   ]
  },
  {
   "cell_type": "markdown",
   "id": "9f192afc-c4ec-4395-9acf-7103cebdcc1c",
   "metadata": {},
   "source": [
    "Task 4: System calibration with X-rays\n",
    "======================================\n",
    "\n",
    "In this task you will take images with an <sup>55</sup>Fe X-ray source and use the signal to calibrate the response of the sensor and calculate the system gain.\n",
    "\n",
    "**You will need an <sup>55</sup>Fe source that should be installed only by a workshop supervisor. Do not handle the source yourself.**\n",
    "\n",
    "X-ray signals provide one of the best methods to calibrate the gain of a system, and it can also be used to measure the noise and the responsivity of an image sensor. The calibration links the displayed output in ADC units (ADU) to physical units of electrons deposited in the sensor.\n",
    "\n",
    "A radioactive isotope of iron (<sup>55</sup>Fe) emits X-rays with energies of 5,898 eV (Mn-Kɑ) and 6,490 eV (Mn-Kβ) in its decay into manganese (<sup>55</sup>Mn). The X-rays generate well known electron charge in silicon and this is used for the calibration. By generating a histogram of the pixel signals, similar to the one shown in Figure 9, the correspondence between ADC channel and signal charge can be determined from the difference between the X-day signal peak and the noise peak (corresponding to pixels with no X-ray charge).\n",
    "\n",
    "![55Fe histogram](images/55Fe-histogram.png)\n",
    "\n",
    "Figure – Example histogram of X-ray events from a <sup>55</sup>Fe source."
   ]
  },
  {
   "cell_type": "markdown",
   "id": "25bd56fe-5eb9-40ec-84c4-46f89bc62a0b",
   "metadata": {},
   "source": [
    "Tasks\n",
    "-----\n",
    "\n",
    "1. Restore the system to normal operation using the CR_2.cfg pixel timing, deselect C_ADDR_EN Override (and upload configuration). Set the rows and the columns for full sensor readout and turn off the LED.\n",
    "\n",
    "2. Ask the supervisor to mount the 55Fe source on top of the sensor with the glass cover removed. Cover the metal box with the blackout cloth to prevent light leaks.\n",
    "\n",
    "3. Take images and adjust the readout rows to cover the area over which the X-ray source is mounted. You can increase the timer period in order to increase the number of X-ray events per image.\n",
    "\n",
    "4. In the File tab (Figure 10) press WRITING and select the number of consecutive images to save in Images to Save before pressing Acquire to take them. The number of required images should be at least two more than the Images to Save.\n",
    "\n",
    "5. Save about 20 or more images in your own directory to make sure that you have sufficient number of X-ray events. Only the ROI is saved to file, and the images are appended in the same file until the file name is changed. Bear in mind that one full image is 5.8 Mbytes.\n",
    "\n",
    "6. After saving enough images with X-ray illumination, ask the supervisor to remove the source and take 10 images in darkness. The averaged dark frame will be used for offline subtraction of pixel offsets and hot pixels. Alternatively, the median pixel signal with X-rays can be used as a *dark* image.\n",
    "\n",
    "7. Start Octave GUI and run a copy of the script CIS115_Xray_Calibration.m from C:\\CIS\\Scripts\\ to produce a histogram and determine:\n",
    "\n",
    "    a) The distance between the X-ray signal peak and the noise peak in ADU\n",
    "\n",
    "    b) The system gain 𝐾 in e-/ADU\n",
    "\n",
    "8. Save the spectrum as an image or as a plot.\n",
    "\n",
    "9. Verify that the noise peak is at approximately 0 ADU."
   ]
  },
  {
   "cell_type": "markdown",
   "id": "82be06b4-a403-4ef8-a1ed-28f56fa2093b",
   "metadata": {},
   "source": [
    "Note\n",
    "----\n",
    "\n",
    "From Book page 38...\n",
    "\n",
    "X-rays of low energy (<20 keV for silicon) provide absolute system calibration because the photogenerated electron signal is well known. For example, the widely used radioactive isotope of iron <sup>55</sup>Fe produces characteristic X-ray photons of 5898 eV and 6490 eV from its decay into manganese <sup>55</sup>Mn. Each absorbed X-ray creates a welldefined electron signal with size obtained from the ionisation energy needed to generate one electron-hole pair in silicon, which at **273 K is 3.65 eV**. The Mn-Kβ 6490 eV photon has 12% relative intensity of the dominant Mn-Kα 5898 eV photon, and in noisy systems they may not be resolvable and could appear as a single X-ray signal."
   ]
  },
  {
   "cell_type": "markdown",
   "id": "d9eccba0-366b-4205-b198-e3b58e0406ea",
   "metadata": {},
   "source": [
    "Arguments\n",
    "---------\n"
   ]
  },
  {
   "cell_type": "code",
   "execution_count": 2,
   "id": "8f8e1b84-6e84-4a09-be1e-36ca8e8b1d5b",
   "metadata": {},
   "outputs": [],
   "source": [
    "data_dir = r\"/Users/hans.smit/work/CMOS-course-20251001/tasks/task4/data/\"\n",
    "dark_img_pth = f\"{data_dir}dark.img\"\n",
    "xray_img_pth = f\"{data_dir}xray.img\""
   ]
  },
  {
   "cell_type": "markdown",
   "id": "ce215bab-f796-4292-b1eb-33177cadeed9",
   "metadata": {},
   "source": [
    "Computation\n",
    "-----------"
   ]
  },
  {
   "cell_type": "code",
   "execution_count": 3,
   "id": "9bf67871-f34b-4483-838f-0fb8911c31c0",
   "metadata": {},
   "outputs": [],
   "source": [
    "%matplotlib ipympl"
   ]
  },
  {
   "cell_type": "code",
   "execution_count": 5,
   "id": "f085bcc3-9abc-45db-98f2-23eabc0bd081",
   "metadata": {},
   "outputs": [],
   "source": [
    "from cis_course import utils\n",
    "import numpy as np\n",
    "import matplotlib.pyplot as plt\n",
    "from scipy.signal import find_peaks"
   ]
  },
  {
   "cell_type": "markdown",
   "id": "faaa9e91-4b46-4da1-afd2-167b00983197",
   "metadata": {},
   "source": [
    "*Load dark images and take the mean (sum all / #images)*"
   ]
  },
  {
   "cell_type": "code",
   "execution_count": 6,
   "id": "3feb2320-7d51-4a6c-97c5-6adab30812e7",
   "metadata": {},
   "outputs": [
    {
     "ename": "FileNotFoundError",
     "evalue": "[Errno 2] No such file or directory: '\\\\Users\\\\hans.smit\\\\work\\\\CMOS-course-20251001\\\\tasks\\\\task4\\\\data\\\\dark.img'",
     "output_type": "error",
     "traceback": [
      "\u001b[31m---------------------------------------------------------------------------\u001b[39m",
      "\u001b[31mFileNotFoundError\u001b[39m                         Traceback (most recent call last)",
      "\u001b[36mCell\u001b[39m\u001b[36m \u001b[39m\u001b[32mIn[6]\u001b[39m\u001b[32m, line 1\u001b[39m\n\u001b[32m----> \u001b[39m\u001b[32m1\u001b[39m imgs_dark = \u001b[43mutils\u001b[49m\u001b[43m.\u001b[49m\u001b[43mextract_images\u001b[49m\u001b[43m(\u001b[49m\u001b[43mdark_img_pth\u001b[49m\u001b[43m)\u001b[49m\n",
      "\u001b[36mFile \u001b[39m\u001b[32m~\\sw\\work\\cis-course\\src\\cis_course\\utils.py:12\u001b[39m, in \u001b[36mextract_images\u001b[39m\u001b[34m(image_file)\u001b[39m\n\u001b[32m     10\u001b[39m \u001b[38;5;250m\u001b[39m\u001b[33;03m\"\"\"Parse the binary image file and return a list of image arrays.\"\"\"\u001b[39;00m\n\u001b[32m     11\u001b[39m result = []\n\u001b[32m---> \u001b[39m\u001b[32m12\u001b[39m \u001b[38;5;28;01mwith\u001b[39;00m \u001b[38;5;28;43mopen\u001b[39;49m\u001b[43m(\u001b[49m\u001b[43mPath\u001b[49m\u001b[43m(\u001b[49m\u001b[43mimage_file\u001b[49m\u001b[43m)\u001b[49m\u001b[43m,\u001b[49m\u001b[43m \u001b[49m\u001b[43mmode\u001b[49m\u001b[43m=\u001b[49m\u001b[33;43m\"\u001b[39;49m\u001b[33;43mrb\u001b[39;49m\u001b[33;43m\"\u001b[39;49m\u001b[43m)\u001b[49m \u001b[38;5;28;01mas\u001b[39;00m f:\n\u001b[32m     13\u001b[39m     img_all_bytes = f.read()\n\u001b[32m     15\u001b[39m header_size = bytes_to_uint16(img_all_bytes, \u001b[32m0\u001b[39m)\n",
      "\u001b[31mFileNotFoundError\u001b[39m: [Errno 2] No such file or directory: '\\\\Users\\\\hans.smit\\\\work\\\\CMOS-course-20251001\\\\tasks\\\\task4\\\\data\\\\dark.img'"
     ]
    }
   ],
   "source": [
    "imgs_dark = utils.extract_images(dark_img_pth)"
   ]
  },
  {
   "cell_type": "code",
   "execution_count": 5,
   "id": "6b1f0eee-12e6-4309-a82f-4f5d9844c3e5",
   "metadata": {},
   "outputs": [],
   "source": [
    "dark_img = np.mean(imgs_dark, 0)"
   ]
  },
  {
   "cell_type": "markdown",
   "id": "e38c82aa-124d-4b3e-a614-30d288729375",
   "metadata": {},
   "source": [
    "*Load xray images, subtract dark image, and reshape into a 1D array*"
   ]
  },
  {
   "cell_type": "code",
   "execution_count": 6,
   "id": "7a4660c6-f984-40af-89b9-47f6b4fcd3ca",
   "metadata": {},
   "outputs": [],
   "source": [
    "imgs_xray = utils.extract_images(xray_img_pth)"
   ]
  },
  {
   "cell_type": "code",
   "execution_count": 7,
   "id": "c38910a2-790b-4210-819f-a985feebea27",
   "metadata": {},
   "outputs": [],
   "source": [
    "xrays = (imgs_xray - dark_img).reshape(-1)"
   ]
  },
  {
   "cell_type": "markdown",
   "id": "d7a8ee0b-4f03-48be-b5ef-675370ae9ea3",
   "metadata": {},
   "source": [
    "*Plot the histogram with 5 ADU bins.*"
   ]
  },
  {
   "cell_type": "code",
   "execution_count": 8,
   "id": "26e46dfd-41c8-4beb-80ab-0a9ff0c34c82",
   "metadata": {},
   "outputs": [],
   "source": [
    "bins = np.arange(-200,2000,5)"
   ]
  },
  {
   "cell_type": "code",
   "execution_count": 3,
   "id": "c7f98805-28cb-4dc3-b014-fd8d242f2050",
   "metadata": {},
   "outputs": [
    {
     "ename": "NameError",
     "evalue": "name 'plt' is not defined",
     "output_type": "error",
     "traceback": [
      "\u001b[31m---------------------------------------------------------------------------\u001b[39m",
      "\u001b[31mNameError\u001b[39m                                 Traceback (most recent call last)",
      "\u001b[36mCell\u001b[39m\u001b[36m \u001b[39m\u001b[32mIn[3]\u001b[39m\u001b[32m, line 1\u001b[39m\n\u001b[32m----> \u001b[39m\u001b[32m1\u001b[39m \u001b[43mplt\u001b[49m.clf()\n\u001b[32m      2\u001b[39m fig, ax = plt.subplots()\n\u001b[32m      3\u001b[39m hist_data = ax.hist(xrays, bins=bins, histtype=\u001b[33m'\u001b[39m\u001b[33mstep\u001b[39m\u001b[33m'\u001b[39m, color=\u001b[33m'\u001b[39m\u001b[33mblue\u001b[39m\u001b[33m'\u001b[39m, linewidth=\u001b[32m0.5\u001b[39m)\n",
      "\u001b[31mNameError\u001b[39m: name 'plt' is not defined"
     ]
    }
   ],
   "source": [
    "plt.clf()\n",
    "fig, ax = plt.subplots()\n",
    "hist_data = ax.hist(xrays, bins=bins, histtype='step', color='blue', linewidth=0.5)\n",
    "ax.set_title(\"Xrays\")\n",
    "ax.set_xlabel(\"Counts\")\n",
    "ax.set_ylabel(\"ADU\")\n",
    "ax.set_yscale('log')\n",
    "ax.set_ylim(1, 100000)\n",
    "ax.grid()\n",
    "plt.show()"
   ]
  },
  {
   "cell_type": "markdown",
   "id": "0b332ca9-9e3d-4729-9c77-4bcb2408aeca",
   "metadata": {},
   "source": [
    "Optional step\n",
    "-------------\n",
    "\n",
    "Smoothing histogram plot and peak finding using scipy."
   ]
  },
  {
   "cell_type": "code",
   "execution_count": 10,
   "id": "13e95a07-30bd-4876-99c5-6f5af5c1c3ff",
   "metadata": {},
   "outputs": [],
   "source": [
    "y, x, _ = hist_data\n",
    "#x = x[1:]  # remove a point to match y"
   ]
  },
  {
   "cell_type": "code",
   "execution_count": 11,
   "id": "84165b5e-9a30-46a3-b576-5bc433ae65a3",
   "metadata": {},
   "outputs": [],
   "source": [
    "def smooth(y, box_pts):\n",
    "    box = np.ones(box_pts) / box_pts\n",
    "    y_smooth = np.convolve(y, box, mode=\"same\")\n",
    "    return y_smooth"
   ]
  },
  {
   "cell_type": "code",
   "execution_count": 12,
   "id": "e4249ab6-beb2-40d7-b3b1-66e125b1500c",
   "metadata": {},
   "outputs": [
    {
     "data": {
      "application/vnd.jupyter.widget-view+json": {
       "model_id": "b27f3c08ca124dbb807ef559bfdd9a2a",
       "version_major": 2,
       "version_minor": 0
      },
      "image/png": "[encoded data removed]",
      "text/html": [
       "\n",
       "            <div style=\"display: inline-block;\">\n",
       "                <div class=\"jupyter-widgets widget-label\" style=\"text-align: center;\">\n",
       "                    Figure\n",
       "                </div>\n",
       "                <img src='data:image/png;base64,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' width=640.0/>\n",
       "            </div>\n",
       "        "
      ],
      "text/plain": [
       "Canvas(toolbar=Toolbar(toolitems=[('Home', 'Reset original view', 'home', 'home'), ('Back', 'Back to previous …"
      ]
     },
     "metadata": {},
     "output_type": "display_data"
    }
   ],
   "source": [
    "yhat = smooth(y, 10)\n",
    "# plt.clf()\n",
    "#plt.plot(x, y, color='red')\n",
    "fig, ax = plt.subplots()\n",
    "ax.plot(x[:-1], y, color=\"red\", linewidth=0.5)\n",
    "ax.plot(x[:-1], yhat, color=\"green\")\n",
    "ax.set_yscale('log')\n",
    "ax.set_ylim(1, 100000)\n",
    "ax.grid()\n",
    "plt.show()"
   ]
  },
  {
   "cell_type": "code",
   "execution_count": 13,
   "id": "222f076c-2974-48cb-bcf9-39eb374d973e",
   "metadata": {},
   "outputs": [],
   "source": [
    "x_peak_loc, props = find_peaks(yhat, width=50, rel_height=50, height=[50, 10000])"
   ]
  },
  {
   "cell_type": "code",
   "execution_count": 14,
   "id": "ae57c321-26bf-4be1-9f8c-f6f72a5aa800",
   "metadata": {},
   "outputs": [
    {
     "data": {
      "text/plain": [
       "array([311, 339])"
      ]
     },
     "execution_count": 14,
     "metadata": {},
     "output_type": "execute_result"
    }
   ],
   "source": [
    "x_peak_loc"
   ]
  },
  {
   "cell_type": "code",
   "execution_count": 15,
   "id": "b94df1fe-b757-4394-8803-09b2641981ea",
   "metadata": {},
   "outputs": [
    {
     "data": {
      "text/plain": [
       "array([1725.,  172.])"
      ]
     },
     "execution_count": 15,
     "metadata": {},
     "output_type": "execute_result"
    }
   ],
   "source": [
    "y[x_peak_loc]"
   ]
  },
  {
   "cell_type": "code",
   "execution_count": 16,
   "id": "1c0f4d62-170a-47a0-8edb-1f061f19ea09",
   "metadata": {},
   "outputs": [
    {
     "data": {
      "text/plain": [
       "array([1355., 1495.])"
      ]
     },
     "execution_count": 16,
     "metadata": {},
     "output_type": "execute_result"
    }
   ],
   "source": [
    "x[x_peak_loc]"
   ]
  },
  {
   "cell_type": "code",
   "execution_count": 17,
   "id": "525a28b4-8c05-4d40-9aa2-8694ddd3a68a",
   "metadata": {},
   "outputs": [
    {
     "data": {
      "text/plain": [
       "{'peak_heights': array([1406.4,  156.4]),\n",
       " 'prominences': array([1118.4,   81.1]),\n",
       " 'left_bases': array([268, 326]),\n",
       " 'right_bases': array([400, 400]),\n",
       " 'widths': array([132.,  74.]),\n",
       " 'width_heights': array([-54513.6,  -3898.6]),\n",
       " 'left_ips': array([268., 326.]),\n",
       " 'right_ips': array([400., 400.])}"
      ]
     },
     "execution_count": 17,
     "metadata": {},
     "output_type": "execute_result"
    }
   ],
   "source": [
    "props"
   ]
  },
  {
   "cell_type": "markdown",
   "id": "75208fe4-a505-4e19-865a-4105d0d10aa4",
   "metadata": {},
   "source": [
    "Results\n",
    "-------"
   ]
  },
  {
   "cell_type": "code",
   "execution_count": 18,
   "id": "e9cd9448-47bf-476f-8d8d-1fe776e060f1",
   "metadata": {},
   "outputs": [],
   "source": [
    "Ei = 3.65 # [eV/e-] taken as constant from book\n",
    "noise_peak = -3.0  # ADU\n",
    "xray_peak1 = 1358.2  # ADU @ Mn-Kα 5898 eV\n",
    "xray_peak2 = 1490.0  # ADU @ Mn-Kβ 6490 eV"
   ]
  },
  {
   "cell_type": "code",
   "execution_count": 19,
   "id": "a43c414f-3dec-4028-9246-40ee86298c0e",
   "metadata": {},
   "outputs": [
    {
     "name": "stdout",
     "output_type": "stream",
     "text": [
      "4.332941522186306\n"
     ]
    }
   ],
   "source": [
    "K1 = 5898 / (xray_peak1 - noise_peak)\n",
    "print(K1)"
   ]
  },
  {
   "cell_type": "code",
   "execution_count": 20,
   "id": "6edbae3e-cb34-4b18-b2f5-410ec7bd74d2",
   "metadata": {},
   "outputs": [
    {
     "name": "stdout",
     "output_type": "stream",
     "text": [
      "4.34695244474213\n"
     ]
    }
   ],
   "source": [
    "K2 = 6490 / (xray_peak2 - noise_peak)\n",
    "print(K2)"
   ]
  },
  {
   "cell_type": "code",
   "execution_count": 21,
   "id": "051c2416-0dc2-41c9-8ed9-cb85609e59ff",
   "metadata": {},
   "outputs": [
    {
     "name": "stdout",
     "output_type": "stream",
     "text": [
      "4.339946983464218\n"
     ]
    }
   ],
   "source": [
    "K = (K1 + K2) / 2\n",
    "print(K)"
   ]
  },
  {
   "cell_type": "code",
   "execution_count": 22,
   "id": "2cd257a7-ca25-4d1f-a806-d0407ed0e6ba",
   "metadata": {},
   "outputs": [
    {
     "name": "stdout",
     "output_type": "stream",
     "text": [
      "1.1871072663524125\n"
     ]
    }
   ],
   "source": [
    "Ke = K1 / Ei\n",
    "print(Ke)"
   ]
  },
  {
   "cell_type": "markdown",
   "id": "3d585df5-12e9-4c53-92b0-cfdea5163f9c",
   "metadata": {},
   "source": [
    "Summary\n",
    "-------"
   ]
  },
  {
   "cell_type": "code",
   "execution_count": 23,
   "id": "e7d13619-c455-4081-9689-73b6cb07d8a2",
   "metadata": {},
   "outputs": [
    {
     "name": "stdout",
     "output_type": "stream",
     "text": [
      "System Gain in eV: 4.34 eV/ADU @ (Mn-Kα + Mn-Kβ) / 2\n"
     ]
    }
   ],
   "source": [
    "print(f\"System Gain in eV: {K:0.4} eV/ADU @ (Mn-Kα + Mn-Kβ) / 2\")"
   ]
  },
  {
   "cell_type": "code",
   "execution_count": 24,
   "id": "68ddeb68-e79c-4d84-a304-de05226c29fe",
   "metadata": {},
   "outputs": [
    {
     "name": "stdout",
     "output_type": "stream",
     "text": [
      "Ionisation Energy to generate one electron-hole pair for Silcon at 273K is 3.65 eV/e⁻\n"
     ]
    }
   ],
   "source": [
    "e_ = \"e\\u207b\"  # formatted electron symbol\n",
    "print(f\"Ionisation Energy to generate one electron-hole pair for Silcon at 273K is {Ei} eV/{e_}\")"
   ]
  },
  {
   "cell_type": "code",
   "execution_count": 25,
   "id": "745dc5bc-9354-4a0e-bab7-b285f307f351",
   "metadata": {},
   "outputs": [
    {
     "name": "stdout",
     "output_type": "stream",
     "text": [
      "System Gain in electrons: 1.187 e⁻/ADU @ Mn-Kα\n"
     ]
    }
   ],
   "source": [
    "print(f\"System Gain in electrons: {Ke:0.4} {e_}/ADU @ Mn-Kα\")"
   ]
  },
  {
   "cell_type": "code",
   "execution_count": null,
   "id": "bb7fa6b5-99ad-473f-8a91-cfc820973ed3",
   "metadata": {},
   "outputs": [],
   "source": []
  }
 ],
 "metadata": {
  "kernelspec": {
   "display_name": "Python 3 (ipykernel)",
   "language": "python",
   "name": "python3"
  },
  "language_info": {
   "codemirror_mode": {
    "name": "ipython",
    "version": 3
   },
   "file_extension": ".py",
   "mimetype": "text/x-python",
   "name": "python",
   "nbconvert_exporter": "python",
   "pygments_lexer": "ipython3",
   "version": "3.13.7"
  }
 },
 "nbformat": 4,
 "nbformat_minor": 5
}
