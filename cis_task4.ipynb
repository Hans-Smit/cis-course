{
 "cells": [
  {
   "cell_type": "markdown",
   "id": "9f192afc-c4ec-4395-9acf-7103cebdcc1c",
   "metadata": {},
   "source": [
    "Task 4: System calibration with X-rays\n",
    "======================================\n",
    "\n",
    "In this task you will take images with an <sup>55</sup>Fe X-ray source and use the signal to calibrate the response of the sensor and calculate the system gain.\n",
    "\n",
    "**You will need an <sup>55</sup>Fe source that should be installed only by a workshop supervisor. Do not handle the source yourself.**\n",
    "\n",
    "X-ray signals provide one of the best methods to calibrate the gain of a system, and it can also be used to measure the noise and the responsivity of an image sensor. The calibration links the displayed output in ADC units (ADU) to physical units of electrons deposited in the sensor.\n",
    "\n",
    "A radioactive isotope of iron (<sup>55</sup>Fe) emits X-rays with energies of 5,898 eV (Mn-Kɑ) and 6,490 eV (Mn-Kβ) in its decay into manganese (<sup>55</sup>Mn). The X-rays generate well known electron charge in silicon and this is used for the calibration. By generating a histogram of the pixel signals, similar to the one shown in Figure 9, the correspondence between ADC channel and signal charge can be determined from the difference between the X-day signal peak and the noise peak (corresponding to pixels with no X-ray charge).\n",
    "\n",
    "![55Fe histogram](images/55Fe-histogram.png)\n",
    "\n",
    "Figure – Example histogram of X-ray events from a <sup>55</sup>Fe source."
   ]
  },
  {
   "cell_type": "markdown",
   "id": "25bd56fe-5eb9-40ec-84c4-46f89bc62a0b",
   "metadata": {},
   "source": [
    "Tasks\n",
    "-----\n",
    "\n",
    "1. Restore the system to normal operation using the CR_2.cfg pixel timing, deselect C_ADDR_EN Override (and upload configuration). Set the rows and the columns for full sensor readout and turn off the LED.\n",
    "\n",
    "2. Ask the supervisor to mount the 55Fe source on top of the sensor with the glass cover removed. Cover the metal box with the blackout cloth to prevent light leaks.\n",
    "\n",
    "3. Take images and adjust the readout rows to cover the area over which the X-ray source is mounted. You can increase the timer period in order to increase the number of X-ray events per image.\n",
    "\n",
    "4. In the File tab (Figure 10) press WRITING and select the number of consecutive images to save in Images to Save before pressing Acquire to take them. The number of required images should be at least two more than the Images to Save.\n",
    "\n",
    "5. Save about 20 or more images in your own directory to make sure that you have sufficient number of X-ray events. Only the ROI is saved to file, and the images are appended in the same file until the file name is changed. Bear in mind that one full image is 5.8 Mbytes.\n",
    "\n",
    "6. After saving enough images with X-ray illumination, ask the supervisor to remove the source and take 10 images in darkness. The averaged dark frame will be used for offline subtraction of pixel offsets and hot pixels. Alternatively, the median pixel signal with X-rays can be used as a *dark* image.\n",
    "\n",
    "7. Start Octave GUI and run a copy of the script CIS115_Xray_Calibration.m from scripts directory to produce a histogram and determine:\n",
    "\n",
    "    a) The distance between the X-ray signal peak and the noise peak in ADU\n",
    "\n",
    "    b) The system gain 𝐾 in e-/ADU\n",
    "\n",
    "8. Save the spectrum as an image or as a plot.\n",
    "\n",
    "9. Verify that the noise peak is at approximately 0 ADU."
   ]
  },
  {
   "cell_type": "markdown",
   "id": "82be06b4-a403-4ef8-a1ed-28f56fa2093b",
   "metadata": {},
   "source": [
    "Note\n",
    "----\n",
    "\n",
    "From Book page 38...\n",
    "\n",
    "X-rays of low energy (<20 keV for silicon) provide absolute system calibration because the photogenerated electron signal is well known. For example, the widely used radioactive isotope of iron <sup>55</sup>Fe produces characteristic X-ray photons of 5898 eV and 6490 eV from its decay into manganese <sup>55</sup>Mn. Each absorbed X-ray creates a welldefined electron signal with size obtained from the ionisation energy needed to generate one electron-hole pair in silicon, which at **273 K is 3.65 eV**. The Mn-Kβ 6490 eV photon has 12% relative intensity of the dominant Mn-Kα 5898 eV photon, and in noisy systems they may not be resolvable and could appear as a single X-ray signal."
   ]
  },
  {
   "cell_type": "code",
   "execution_count": null,
   "id": "9bf67871-f34b-4483-838f-0fb8911c31c0",
   "metadata": {},
   "outputs": [],
   "source": [
    "%matplotlib ipympl"
   ]
  },
  {
   "cell_type": "code",
   "execution_count": null,
   "id": "f085bcc3-9abc-45db-98f2-23eabc0bd081",
   "metadata": {},
   "outputs": [],
   "source": [
    "from cis_course import utils\n",
    "import numpy as np\n",
    "import pandas as pd\n",
    "import matplotlib.pyplot as plt\n",
    "from scipy.signal import find_peaks\n",
    "from pathlib import Path"
   ]
  },
  {
   "cell_type": "markdown",
   "id": "d9eccba0-366b-4205-b198-e3b58e0406ea",
   "metadata": {},
   "source": [
    "Arguments\n",
    "---------\n"
   ]
  },
  {
   "cell_type": "code",
   "execution_count": null,
   "id": "8f8e1b84-6e84-4a09-be1e-36ca8e8b1d5b",
   "metadata": {},
   "outputs": [],
   "source": [
    "data_dir = Path(\"~/sw/data/CMOS-course-20251001/tasks/task4/data/\")\n",
    "dark_img_pth = f\"{data_dir}/dark.img\"\n",
    "xray_img_pth = f\"{data_dir}/xray.img\""
   ]
  },
  {
   "cell_type": "markdown",
   "id": "ce215bab-f796-4292-b1eb-33177cadeed9",
   "metadata": {},
   "source": [
    "Computation\n",
    "-----------"
   ]
  },
  {
   "cell_type": "markdown",
   "id": "faaa9e91-4b46-4da1-afd2-167b00983197",
   "metadata": {},
   "source": [
    "*Load dark images and take the mean (sum all / #images)*"
   ]
  },
  {
   "cell_type": "code",
   "execution_count": null,
   "id": "3feb2320-7d51-4a6c-97c5-6adab30812e7",
   "metadata": {},
   "outputs": [],
   "source": [
    "imgs_dark = utils.extract_images(dark_img_pth)"
   ]
  },
  {
   "cell_type": "code",
   "execution_count": null,
   "id": "6b1f0eee-12e6-4309-a82f-4f5d9844c3e5",
   "metadata": {},
   "outputs": [],
   "source": [
    "dark_img = np.mean(imgs_dark, 0)"
   ]
  },
  {
   "cell_type": "markdown",
   "id": "e38c82aa-124d-4b3e-a614-30d288729375",
   "metadata": {},
   "source": [
    "*Load xray images, subtract dark image, and reshape into a 1D array*"
   ]
  },
  {
   "cell_type": "code",
   "execution_count": null,
   "id": "7a4660c6-f984-40af-89b9-47f6b4fcd3ca",
   "metadata": {},
   "outputs": [],
   "source": [
    "imgs_xray = utils.extract_images(xray_img_pth)"
   ]
  },
  {
   "cell_type": "code",
   "execution_count": null,
   "id": "c38910a2-790b-4210-819f-a985feebea27",
   "metadata": {},
   "outputs": [],
   "source": [
    "xrays = (imgs_xray - dark_img).reshape(-1)"
   ]
  },
  {
   "cell_type": "markdown",
   "id": "d7a8ee0b-4f03-48be-b5ef-675370ae9ea3",
   "metadata": {},
   "source": [
    "*Plot the histogram with 5 ADU bins.*"
   ]
  },
  {
   "cell_type": "code",
   "execution_count": null,
   "id": "26e46dfd-41c8-4beb-80ab-0a9ff0c34c82",
   "metadata": {},
   "outputs": [],
   "source": [
    "bins = np.arange(-200,2000,5)"
   ]
  },
  {
   "cell_type": "code",
   "execution_count": null,
   "id": "c7f98805-28cb-4dc3-b014-fd8d242f2050",
   "metadata": {},
   "outputs": [],
   "source": [
    "plt.close('all')\n",
    "fig, ax = plt.subplots()\n",
    "hist_data = ax.hist(xrays, bins=bins, histtype='step', color='blue', linewidth=0.5)\n",
    "ax.set_title(\"Xrays\")\n",
    "ax.set_xlabel(\"Counts\")\n",
    "ax.set_ylabel(\"ADU\")\n",
    "ax.set_yscale('log')\n",
    "ax.set_ylim(1, 100000)\n",
    "ax.grid()\n",
    "plt.show()"
   ]
  },
  {
   "cell_type": "markdown",
   "id": "0b332ca9-9e3d-4729-9c77-4bcb2408aeca",
   "metadata": {},
   "source": [
    "Optional step\n",
    "-------------\n",
    "\n",
    "Smoothing histogram plot and peak finding using scipy."
   ]
  },
  {
   "cell_type": "code",
   "execution_count": null,
   "id": "13e95a07-30bd-4876-99c5-6f5af5c1c3ff",
   "metadata": {},
   "outputs": [],
   "source": [
    "y, x, _ = hist_data\n",
    "window_size = 9"
   ]
  },
  {
   "cell_type": "code",
   "execution_count": null,
   "id": "e4249ab6-beb2-40d7-b3b1-66e125b1500c",
   "metadata": {},
   "outputs": [],
   "source": [
    "# yhat = pd.DataFrame(y).rolling(window=window_size, center=True, min_periods=1, win_type='triang')[0].mean()\n",
    "plt.close('all')\n",
    "weights = np.ones(window_size) / window_size\n",
    "yhat = np.convolve(y, weights, mode='same')\n",
    "fig, ax = plt.subplots()\n",
    "ax.plot(x[:-1], y, color=\"red\", linewidth=0.5)\n",
    "ax.plot(x[:-1], yhat, color=\"green\", linewidth=1.5)\n",
    "ax.set_yscale('log')\n",
    "ax.set_ylim(1, 100000)\n",
    "ax.grid()\n",
    "plt.show()"
   ]
  },
  {
   "cell_type": "code",
   "execution_count": null,
   "id": "222f076c-2974-48cb-bcf9-39eb374d973e",
   "metadata": {},
   "outputs": [],
   "source": [
    "x_peak_loc, props = find_peaks(yhat, width=50, rel_height=50, height=[50, 10000])"
   ]
  },
  {
   "cell_type": "code",
   "execution_count": null,
   "id": "ae57c321-26bf-4be1-9f8c-f6f72a5aa800",
   "metadata": {},
   "outputs": [],
   "source": [
    "x_peak_loc"
   ]
  },
  {
   "cell_type": "code",
   "execution_count": null,
   "id": "b94df1fe-b757-4394-8803-09b2641981ea",
   "metadata": {},
   "outputs": [],
   "source": [
    "y[x_peak_loc]"
   ]
  },
  {
   "cell_type": "code",
   "execution_count": null,
   "id": "1c0f4d62-170a-47a0-8edb-1f061f19ea09",
   "metadata": {},
   "outputs": [],
   "source": [
    "x[x_peak_loc]"
   ]
  },
  {
   "cell_type": "code",
   "execution_count": null,
   "id": "525a28b4-8c05-4d40-9aa2-8694ddd3a68a",
   "metadata": {},
   "outputs": [],
   "source": [
    "props"
   ]
  },
  {
   "cell_type": "markdown",
   "id": "75208fe4-a505-4e19-865a-4105d0d10aa4",
   "metadata": {},
   "source": [
    "Results\n",
    "-------"
   ]
  },
  {
   "cell_type": "code",
   "execution_count": null,
   "id": "e9cd9448-47bf-476f-8d8d-1fe776e060f1",
   "metadata": {},
   "outputs": [],
   "source": [
    "Ei = 3.65 # [eV/e-] taken as constant from book\n",
    "noise_peak = -3.0  # ADU\n",
    "xray_peak1 = 1358.2  # ADU @ Mn-Kα 5898 eV\n",
    "xray_peak2 = 1490.0  # ADU @ Mn-Kβ 6490 eV"
   ]
  },
  {
   "cell_type": "code",
   "execution_count": null,
   "id": "a43c414f-3dec-4028-9246-40ee86298c0e",
   "metadata": {},
   "outputs": [],
   "source": [
    "K1 = 5898 / (xray_peak1 - noise_peak)\n",
    "print(K1)"
   ]
  },
  {
   "cell_type": "code",
   "execution_count": null,
   "id": "6edbae3e-cb34-4b18-b2f5-410ec7bd74d2",
   "metadata": {},
   "outputs": [],
   "source": [
    "K2 = 6490 / (xray_peak2 - noise_peak)\n",
    "print(K2)"
   ]
  },
  {
   "cell_type": "code",
   "execution_count": null,
   "id": "051c2416-0dc2-41c9-8ed9-cb85609e59ff",
   "metadata": {},
   "outputs": [],
   "source": [
    "K = (K1 + K2) / 2\n",
    "print(K)"
   ]
  },
  {
   "cell_type": "code",
   "execution_count": null,
   "id": "2cd257a7-ca25-4d1f-a806-d0407ed0e6ba",
   "metadata": {},
   "outputs": [],
   "source": [
    "Ke = K1 / Ei\n",
    "print(Ke)"
   ]
  },
  {
   "cell_type": "markdown",
   "id": "3d585df5-12e9-4c53-92b0-cfdea5163f9c",
   "metadata": {},
   "source": [
    "Summary\n",
    "-------"
   ]
  },
  {
   "cell_type": "code",
   "execution_count": null,
   "id": "e7d13619-c455-4081-9689-73b6cb07d8a2",
   "metadata": {},
   "outputs": [],
   "source": [
    "print(f\"System Gain in eV: {K:0.4} eV/ADU @ (Mn-Kα + Mn-Kβ) / 2\")"
   ]
  },
  {
   "cell_type": "code",
   "execution_count": null,
   "id": "68ddeb68-e79c-4d84-a304-de05226c29fe",
   "metadata": {},
   "outputs": [],
   "source": [
    "e_ = \"e\\u207b\"  # formatted electron symbol\n",
    "print(f\"Ionisation Energy to generate one electron-hole pair for Silcon at 273K is {Ei} eV/{e_}\")"
   ]
  },
  {
   "cell_type": "code",
   "execution_count": null,
   "id": "745dc5bc-9354-4a0e-bab7-b285f307f351",
   "metadata": {},
   "outputs": [],
   "source": [
    "print(f\"System Gain in electrons: {Ke:0.4} {e_}/ADU @ Mn-Kα\")"
   ]
  }
 ],
 "metadata": {
  "kernelspec": {
   "display_name": "Python 3 (ipykernel)",
   "language": "python",
   "name": "python3"
  },
  "language_info": {
   "codemirror_mode": {
    "name": "ipython",
    "version": 3
   },
   "file_extension": ".py",
   "mimetype": "text/x-python",
   "name": "python",
   "nbconvert_exporter": "python",
   "pygments_lexer": "ipython3",
   "version": "3.13.7"
  }
 },
 "nbformat": 4,
 "nbformat_minor": 5
}
